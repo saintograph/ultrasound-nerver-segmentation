{
 "cells": [
  {
   "cell_type": "code",
   "execution_count": null,
   "metadata": {},
   "outputs": [],
   "source": [
    "import os\n",
    "from skimage.transform import resize\n",
    "from skimage.io import imsave\n",
    "import numpy as np\n",
    "from data import load_train_data, load_test_data"
   ]
  },
  {
   "cell_type": "code",
   "execution_count": null,
   "metadata": {},
   "outputs": [],
   "source": [
    "image_height, image_width = 96, 96\n",
    "smoothness = 1.0\n",
    "work_dir = 'train'"
   ]
  },
  {
   "cell_type": "code",
   "execution_count": null,
   "metadata": {},
   "outputs": [],
   "source": [
    "from keras import backend as K\n",
    "\n",
    "def dice_coef(y_true, y_pred, smooth=0.9):\n",
    "    y_true_f = K.flatten(y_true)\n",
    "    y_pred_f = K.flatten(y_pred)\n",
    "    intersection = K.sum(y_true_f * y_pred_f)\n",
    "    return (2. * intersection + smooth) / (K.sum(y_true_f) + K.sum(y_pred_f) + smooth)\n",
    "def dice_coef_loss(y_true, y_pred):\n",
    "    return -dice_coef(y_true, y_pred)"
   ]
  },
  {
   "cell_type": "code",
   "execution_count": null,
   "metadata": {},
   "outputs": [],
   "source": [
    "def preprocess(imgs):\n",
    "    imgs_p = np.ndarray((imgs.shape[0], image_height, image_width), dtype=np.uint8)\n",
    "    for i in range(imgs.shape[0]):\n",
    "        imgs_p[i] = resize(imgs[i], (image_width, image_height))\n",
    "    imgs_p = imgs_p[..., np.newaxis]\n",
    "    return imgs_p\n"
   ]
  },
  {
   "cell_type": "code",
   "execution_count": null,
   "metadata": {},
   "outputs": [],
   "source": [
    "from keras.layers import MaxPooling2D, Input, Conv2D, Activation, Conv2DTranspose, UpSampling2D, Dropout, Concatenate\n",
    "from keras.models import Sequential\n",
    "from keras.optimizers import Adam\n",
    "\n",
    "unet = Sequential()\n",
    "\n",
    "unet.add(Conv2D(64, 3, activation = 'relu', padding = 'same', kernel_initializer = 'he_normal', input_shape=(96, 96, 1)))\n",
    "unet.add(Conv2D(64, 3, activation = 'relu', padding = 'same', kernel_initializer = 'he_normal'))\n",
    "unet.add(MaxPooling2D(pool_size=(2, 2)))\n",
    "\n",
    "unet.add(Conv2D(128, 3, activation = 'relu', padding = 'same', kernel_initializer = 'he_normal'))\n",
    "unet.add(Conv2D(128, 3, activation = 'relu', padding = 'same', kernel_initializer = 'he_normal'))\n",
    "# unet.add(Activation('relu'))\n",
    "unet.add(MaxPooling2D(pool_size=(2, 2)))\n",
    "\n",
    "unet.add(Conv2D(256, 3, activation = 'relu', padding = 'same', kernel_initializer = 'he_normal'))\n",
    "unet.add(Conv2D(256, 3, activation = 'relu', padding = 'same', kernel_initializer = 'he_normal'))\n",
    "unet.add(MaxPooling2D(pool_size=(2, 2)))\n",
    "\n",
    "unet.add(Conv2D(512, 3, activation = 'relu', padding = 'same', kernel_initializer = 'he_normal'))\n",
    "unet.add(Conv2D(512, 3, activation = 'relu', padding = 'same', kernel_initializer = 'he_normal'))\n",
    "unet.add(Dropout(0.5))\n",
    "unet.add(MaxPooling2D(pool_size=(2, 2)))\n",
    "\n",
    "unet.add(Conv2D(1024, 3, activation = 'relu', padding = 'same', kernel_initializer = 'he_normal'))\n",
    "unet.add(Conv2D(1024, 3, activation = 'relu', padding = 'same', kernel_initializer = 'he_normal'))\n",
    "unet.add(Dropout(0.5))\n",
    "\n",
    "unet.add(Conv2D(512, 2, activation = 'relu', padding = 'same', kernel_initializer = 'he_normal'))\n",
    "unet.add(UpSampling2D(2))\n",
    "unet.add(Conv2D(512, 3, activation = 'relu', padding = 'same', kernel_initializer = 'he_normal'))\n",
    "unet.add(Conv2D(512, 3, activation = 'relu', padding = 'same', kernel_initializer = 'he_normal'))\n",
    "unet.add(Conv2D(512, 3, activation = 'relu', padding = 'same', kernel_initializer = 'he_normal'))\n",
    "\n",
    "unet.add(Conv2D(256, 2, activation = 'relu', padding = 'same', kernel_initializer = 'he_normal'))\n",
    "unet.add(UpSampling2D(2))\n",
    "unet.add(Conv2D(256, 3, activation = 'relu', padding = 'same', kernel_initializer = 'he_normal'))\n",
    "unet.add(Conv2D(256, 3, activation = 'relu', padding = 'same', kernel_initializer = 'he_normal'))\n",
    "         \n",
    "unet.add(Conv2D(128, 2, activation = 'relu', padding = 'same', kernel_initializer = 'he_normal'))\n",
    "unet.add(UpSampling2D(2))\n",
    "unet.add(Conv2D(128, 3, activation = 'relu', padding = 'same', kernel_initializer = 'he_normal'))\n",
    "unet.add(Conv2D(128, 3, activation = 'relu', padding = 'same', kernel_initializer = 'he_normal'))\n",
    "\n",
    "unet.add(Conv2D(64, 2, activation = 'relu', padding = 'same', kernel_initializer = 'he_normal'))\n",
    "unet.add(UpSampling2D(2))\n",
    "unet.add(Conv2D(64, 3, activation = 'relu', padding = 'same', kernel_initializer = 'he_normal'))\n",
    "unet.add(Conv2D(64, 3, activation = 'relu', padding = 'same', kernel_initializer = 'he_normal'))\n",
    "\n",
    "\n",
    "unet.add(Conv2D(2, 3, activation = 'relu', padding = 'same', kernel_initializer = 'he_normal'))\n",
    "unet.add(Conv2D(1, 1, activation = 'sigmoid', padding = 'same', kernel_initializer = 'he_normal'))\n",
    "\n",
    "unet.summary()\n",
    "\n",
    "unet.compile(optimizer=Adam(),\n",
    "              loss=dice_coef_loss,\n",
    "              metrics=[dice_coef])"
   ]
  },
  {
   "cell_type": "code",
   "execution_count": null,
   "metadata": {},
   "outputs": [],
   "source": [
    "import os\n",
    "import numpy as np\n",
    "\n",
    "from skimage.io import imsave, imread\n",
    "\n",
    "x_train, y_train_mask = load_train_data()\n",
    "\n",
    "x_train = preprocess(x_train)\n",
    "y_train_mask = preprocess(y_train_mask)\n",
    "\n",
    "x_train = x_train.astype('float32')\n",
    "mean = np.mean(x_train)\n",
    "std = np.std(x_train)\n",
    "\n",
    "x_train -= mean\n",
    "x_train /= std\n",
    "\n",
    "y_train_mask = y_train_mask.astype('float32')\n",
    "y_train_mask /= 255.\n",
    "\n",
    "unet.fit(x_train, y_train_mask, batch_size=32, epochs=20, verbose=1, shuffle=True, validation_split=0.2)\n",
    "\n",
    "x_test, y_test_mask = load_test_data()\n",
    "x_test = preprocess(x_test)\n",
    "\n",
    "x_test = x_test.astype('float32')\n",
    "x_test -= mean\n",
    "x_test /= std\n",
    "\n",
    "y_test_pred = unet.predict(x_test, verbose=1)\n",
    "\n",
    "for image, image_id in zip(y_test_pred, y_test_mask):\n",
    "    image = (image[:, :, 0] * 255.).astype(np.uint8)\n",
    "    imsave(os.path.join(work_dir, str(image_id) + '.png'), image)"
   ]
  },
  {
   "cell_type": "code",
   "execution_count": null,
   "metadata": {},
   "outputs": [],
   "source": []
  },
  {
   "cell_type": "code",
   "execution_count": null,
   "metadata": {},
   "outputs": [],
   "source": []
  }
 ],
 "metadata": {
  "kernelspec": {
   "display_name": "Python 2",
   "language": "python",
   "name": "python2"
  },
  "language_info": {
   "codemirror_mode": {
    "name": "ipython",
    "version": 2
   },
   "file_extension": ".py",
   "mimetype": "text/x-python",
   "name": "python",
   "nbconvert_exporter": "python",
   "pygments_lexer": "ipython2",
   "version": "2.7.12"
  }
 },
 "nbformat": 4,
 "nbformat_minor": 2
}
