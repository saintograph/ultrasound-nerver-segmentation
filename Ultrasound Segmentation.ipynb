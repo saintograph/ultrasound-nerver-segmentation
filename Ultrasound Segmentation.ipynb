{
 "cells": [
  {
   "cell_type": "code",
   "execution_count": null,
   "metadata": {},
   "outputs": [],
   "source": [
    "import os\n",
    "from skimage.transform import resize\n",
    "from skimage.io import imsave\n",
    "import numpy as np\n",
    "from data import load_train_data, load_test_data"
   ]
  },
  {
   "cell_type": "code",
   "execution_count": null,
   "metadata": {},
   "outputs": [],
   "source": [
    "image_height, image_width = 96, 96\n",
    "smoothness = 1.0\n",
    "work_dir = 'train'"
   ]
  },
  {
   "cell_type": "code",
   "execution_count": null,
   "metadata": {},
   "outputs": [],
   "source": [
    "def dice_coefficient(y1, y2):\n",
    "    y1 = tf.flatten(y1)\n",
    "    y2 = tf.flatten(y2)\n",
    "    return (2. * tf.sum(y1 * y2) + smoothness) / (tf.sum(y1) + tf.sum(y2) + smoothness)\n",
    "\n",
    "def dice_coefficient_loss(y1, y2):\n",
    "    return -dice_coefficient(y1, y2)"
   ]
  },
  {
   "cell_type": "code",
   "execution_count": null,
   "metadata": {},
   "outputs": [],
   "source": [
    "def preprocess(imgs):\n",
    "    imgs_p = np.ndarray((imgs.shape[0], image_height, image_width),\n",
    "    dtype=np.uint8)\n",
    "        for i in range(imgs.shape[0]):\n",
    "            imgs_p[i] = resize(imgs[i], (image_width, image_height), preserve_range=True)\n",
    "            imgs_p = imgs_p[..., np.newaxis]\n",
    "            return imgs_p"
   ]
  },
  {
   "cell_type": "code",
   "execution_count": null,
   "metadata": {},
   "outputs": [],
   "source": [
    "from keras.layers import Conv2D\n",
    "\n",
    "def covolution_layer(filters, kernel=(3,3), activation='relu', input_shape=None):\n",
    "    if input_shape is None:\n",
    "        return tf.keras.layers.Conv2D(filters=filters, kernel=kernel, activation=activation)\n",
    "    else:\n",
    "        return tf.keras.layers.Conv2D(filters=filters, kernel=kernel, activation=activation, input_shape=input_shape)\n",
    "    \n",
    "def concatenated_de_convolution_layer(filters):\n",
    "    return tf.keras.layers.concatenate([tf.keras.layers.Conv2DTranspose(\n",
    "        filters=filters,\n",
    "        kernel=(2, 2),\n",
    "        strides=(2, 2),\n",
    "        padding='same')], axis=3)\n",
    "\n",
    "\n",
    "unet = tf.keras.models.Sequential()\n",
    "inputs = tf.keras.layers.Input((image_height, image_width, 1))\n",
    "input_shape = (image_height, image_width, 1)\n",
    "unet.add(covolution_layer(32, input_shape=input_shape))\n",
    "unet.add(covolution_layer(32))\n",
    "unet.add(pooling_layer())\n",
    "unet.add(covolution_layer(64))\n",
    "unet.add(covolution_layer(64))\n",
    "unet.add(pooling_layer())\n",
    "unet.add(covolution_layer(128))\n",
    "unet.add(covolution_layer(128))\n",
    "unet.add(pooling_layer())\n",
    "unet.add(covolution_layer(256))\n",
    "unet.add(covolution_layer(256))\n",
    "unet.add(pooling_layer())\n",
    "unet.add(covolution_layer(512))\n",
    "unet.add(covolution_layer(512))"
   ]
  },
  {
   "cell_type": "code",
   "execution_count": null,
   "metadata": {},
   "outputs": [],
   "source": [
    "unet.add(concatenated_de_convolution_layer(256))\n",
    "unet.add(covolution_layer(256))\n",
    "unet.add(covolution_layer(256))\n",
    "unet.add(concatenated_de_convolution_layer(128))\n",
    "unet.add(covolution_layer(128))\n",
    "unet.add(covolution_layer(128))\n",
    "unet.add(concatenated_de_convolution_layer(64))\n",
    "unet.add(covolution_layer(64))\n",
    "unet.add(covolution_layer(64))\n",
    "unet.add(concatenated_de_convolution_layer(32))\n",
    "unet.add(covolution_layer(32))\n",
    "unet.add(covolution_layer(32))\n",
    "unet.add(covolution_layer(1, kernel=(1, 1), activation='sigmoid'))\n",
    "\n",
    "unet.compile(optimizer=tf.keras.optimizers.Adam(lr=1e-5),\n",
    "                loss=dice_coefficient_loss,\n",
    "                metrics=[dice_coefficient])"
   ]
  },
  {
   "cell_type": "code",
   "execution_count": null,
   "metadata": {},
   "outputs": [],
   "source": [
    "x_train, y_train_mask = load_train_data()\n",
    "\n",
    "x_train = preprocess(x_train)\n",
    "y_train_mask = preprocess(y_train_mask)\n",
    "\n",
    "x_train = x_train.astype('float32')\n",
    "mean = np.mean(x_train)\n",
    "std = np.std(x_train)\n",
    "\n",
    "x_train -= mean\n",
    "x_train /= std\n",
    "\n",
    "y_train_mask = y_train_mask.astype('float32')\n",
    "y_train_mask /= 255.\n",
    "\n",
    "unet.fit(x_train, y_train_mask, batch_size=32, epochs=20, verbose=1, shuffle=True, validation_split=0.2)\n",
    "\n",
    "x_test, y_test_mask = load_test_data()\n",
    "x_test = preprocess(x_test)\n",
    "\n",
    "x_test = x_test.astype('float32')\n",
    "x_test -= mean\n",
    "\n",
    "x_test /= std\n",
    "y_test_pred = unet.predict(x_test, verbose=1)\n",
    "\n",
    "for image, image_id in zip(y_test_pred, y_test_mask):\n",
    "    image = (image[:, :, 0] * 255.).astype(np.uint8)\n",
    "    imsave(os.path.join(work_dir, str(image_id) + '.png'), image)"
   ]
  }
 ],
 "metadata": {
  "kernelspec": {
   "display_name": "Python 2",
   "language": "python",
   "name": "python2"
  },
  "language_info": {
   "codemirror_mode": {
    "name": "ipython",
    "version": 2
   },
   "file_extension": ".py",
   "mimetype": "text/x-python",
   "name": "python",
   "nbconvert_exporter": "python",
   "pygments_lexer": "ipython2",
   "version": "2.7.12"
  }
 },
 "nbformat": 4,
 "nbformat_minor": 2
}
